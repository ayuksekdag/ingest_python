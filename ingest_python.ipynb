{
  "nbformat": 4,
  "nbformat_minor": 0,
  "metadata": {
    "colab": {
      "provenance": [],
      "authorship_tag": "ABX9TyNbSHJe6f10otI5UVxXC97f",
      "include_colab_link": true
    },
    "kernelspec": {
      "name": "python3",
      "display_name": "Python 3"
    },
    "language_info": {
      "name": "python"
    }
  },
  "cells": [
    {
      "cell_type": "markdown",
      "metadata": {
        "id": "view-in-github",
        "colab_type": "text"
      },
      "source": [
        "<a href=\"https://colab.research.google.com/github/ayuksekdag/ingest_python/blob/main/ingest_python.ipynb\" target=\"_parent\"><img src=\"https://colab.research.google.com/assets/colab-badge.svg\" alt=\"Open In Colab\"/></a>"
      ]
    },
    {
      "cell_type": "code",
      "execution_count": null,
      "metadata": {
        "id": "uxHKx2JXOaKY"
      },
      "outputs": [],
      "source": [
        "# import necessary libraries\n",
        "import os\n",
        "from pyspark.sql.functions import udf, col\n",
        "from pyspark.sql.types import IntegerType\n",
        "\n",
        "# get list of tables from SQL, for MySQL syntax you can use just SHOW TABLES\n",
        "df_tables = spark.read.jdbc(url=os.environ['SQL_JDBC_URL'], table=\"\"\"(SELECT\n",
        "  *\n",
        "FROM\n",
        "  SYSOBJECTS\n",
        "WHERE\n",
        "  xtype = 'U') x\"\"\")\n",
        "\n",
        "# register function\n",
        "def create_df(table):\n",
        "\n",
        "  globals()[table] = spark.read.jdbc(url=os.environ['SQL_JDBC_URL'], table=table)\n",
        "  return globals()[table].count()\n",
        "\n",
        "# for each name from table list create dataframe using function\n",
        "for value in df_tables.select(\"name\").collect():\n",
        "  create_df(value['name'])"
      ]
    }
  ]
}